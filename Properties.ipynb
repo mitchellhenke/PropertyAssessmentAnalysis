{
 "cells": [
  {
   "cell_type": "code",
   "execution_count": 33,
   "metadata": {},
   "outputs": [],
   "source": [
    "import pandas as pd\n",
    "import numpy as np\n",
    "import matplotlib.pyplot as plt\n",
    "import seaborn as sns"
   ]
  },
  {
   "cell_type": "code",
   "execution_count": 34,
   "metadata": {},
   "outputs": [
    {
     "name": "stdout",
     "output_type": "stream",
     "text": [
      "      tax_key  AssessmentYear  Assessment  NextYear  NextYearAssessment  \\\n",
      "0  2440132000            2009      113700      2010              108000   \n",
      "1  2061316000            2009       78800      2010               74900   \n",
      "2  2310306000            2009       97000      2010               92100   \n",
      "3  1229979100            2009      131700      2010              131700   \n",
      "4  2440969000            2009       93600      2010               89000   \n",
      "\n",
      "     Sale convey_type  geo_alder  \n",
      "0  105000          WD          1  \n",
      "1   48400          QC          1  \n",
      "2  100000          WD          1  \n",
      "3  131500          WD          1  \n",
      "4   79500          WD          1  \n"
     ]
    }
   ],
   "source": [
    "data = pd.read_csv(\"./data/assessments/assessments_sales.csv\")\n",
    "print(data.head())"
   ]
  },
  {
   "cell_type": "code",
   "execution_count": 44,
   "metadata": {},
   "outputs": [],
   "source": [
    "data['assessment_ratio'] = data.Assessment/data.Sale\n",
    "data = data[((data['NextYearAssessment']/data['Assessment']) < 3)]\n",
    "data = data[data['Assessment'] > 0]\n",
    "data = data[data['assessment_ratio'] < 2]\n",
    "data = data[data['assessment_ratio'] >= 0.5]\n",
    "data = data[data['convey_type'].isin([\"WD\", \"CD\"])]\n",
    "data = data[data['AssessmentYear'] >= 2012]"
   ]
  },
  {
   "cell_type": "code",
   "execution_count": 43,
   "metadata": {},
   "outputs": [],
   "source": [
    "five = data[(data['geo_alder'] == 5.0)]\n",
    "standard_five = five[five['convey_type'].isin([\"WD\", \"CD\"])]\n",
    "fourteen = data[(data['geo_alder'] == 14.0)]\n",
    "standard_fourteen = fourteen[fourteen['convey_type'].isin([\"WD\", \"CD\"])]\n",
    "#print(standard_five.count()/five.count())\n",
    "#print(standard_fourteen.count()/fourteen.count())"
   ]
  },
  {
   "cell_type": "code",
   "execution_count": 46,
   "metadata": {},
   "outputs": [
    {
     "data": {
      "text/html": [
       "<div>\n",
       "<style scoped>\n",
       "    .dataframe tbody tr th:only-of-type {\n",
       "        vertical-align: middle;\n",
       "    }\n",
       "\n",
       "    .dataframe tbody tr th {\n",
       "        vertical-align: top;\n",
       "    }\n",
       "\n",
       "    .dataframe thead th {\n",
       "        text-align: right;\n",
       "    }\n",
       "</style>\n",
       "<table border=\"1\" class=\"dataframe\">\n",
       "  <thead>\n",
       "    <tr style=\"text-align: right;\">\n",
       "      <th></th>\n",
       "      <th>tax_key</th>\n",
       "      <th>AssessmentYear</th>\n",
       "      <th>Assessment</th>\n",
       "      <th>NextYear</th>\n",
       "      <th>NextYearAssessment</th>\n",
       "      <th>Sale</th>\n",
       "      <th>convey_type</th>\n",
       "      <th>geo_alder</th>\n",
       "      <th>assessment_ratio</th>\n",
       "    </tr>\n",
       "  </thead>\n",
       "  <tbody>\n",
       "    <tr>\n",
       "      <th>11325</th>\n",
       "      <td>4350690000</td>\n",
       "      <td>2012</td>\n",
       "      <td>99200</td>\n",
       "      <td>2013</td>\n",
       "      <td>99200</td>\n",
       "      <td>50000</td>\n",
       "      <td>WD</td>\n",
       "      <td>8</td>\n",
       "      <td>1.984000</td>\n",
       "    </tr>\n",
       "    <tr>\n",
       "      <th>6665</th>\n",
       "      <td>3080501000</td>\n",
       "      <td>2014</td>\n",
       "      <td>110000</td>\n",
       "      <td>2015</td>\n",
       "      <td>110000</td>\n",
       "      <td>55600</td>\n",
       "      <td>WD</td>\n",
       "      <td>15</td>\n",
       "      <td>1.978417</td>\n",
       "    </tr>\n",
       "    <tr>\n",
       "      <th>9168</th>\n",
       "      <td>3210618000</td>\n",
       "      <td>2015</td>\n",
       "      <td>94500</td>\n",
       "      <td>2016</td>\n",
       "      <td>97500</td>\n",
       "      <td>48000</td>\n",
       "      <td>WD</td>\n",
       "      <td>3</td>\n",
       "      <td>1.968750</td>\n",
       "    </tr>\n",
       "    <tr>\n",
       "      <th>10895</th>\n",
       "      <td>1399986110</td>\n",
       "      <td>2014</td>\n",
       "      <td>115900</td>\n",
       "      <td>2015</td>\n",
       "      <td>115900</td>\n",
       "      <td>59000</td>\n",
       "      <td>WD</td>\n",
       "      <td>9</td>\n",
       "      <td>1.964407</td>\n",
       "    </tr>\n",
       "    <tr>\n",
       "      <th>7435</th>\n",
       "      <td>2251011000</td>\n",
       "      <td>2012</td>\n",
       "      <td>73600</td>\n",
       "      <td>2013</td>\n",
       "      <td>70000</td>\n",
       "      <td>37500</td>\n",
       "      <td>WD</td>\n",
       "      <td>2</td>\n",
       "      <td>1.962667</td>\n",
       "    </tr>\n",
       "    <tr>\n",
       "      <th>10125</th>\n",
       "      <td>2701043000</td>\n",
       "      <td>2012</td>\n",
       "      <td>40200</td>\n",
       "      <td>2013</td>\n",
       "      <td>38200</td>\n",
       "      <td>20500</td>\n",
       "      <td>WD</td>\n",
       "      <td>6</td>\n",
       "      <td>1.960976</td>\n",
       "    </tr>\n",
       "    <tr>\n",
       "      <th>78</th>\n",
       "      <td>2460129000</td>\n",
       "      <td>2012</td>\n",
       "      <td>49000</td>\n",
       "      <td>2013</td>\n",
       "      <td>49000</td>\n",
       "      <td>25000</td>\n",
       "      <td>WD</td>\n",
       "      <td>1</td>\n",
       "      <td>1.960000</td>\n",
       "    </tr>\n",
       "    <tr>\n",
       "      <th>5575</th>\n",
       "      <td>4970620000</td>\n",
       "      <td>2012</td>\n",
       "      <td>78200</td>\n",
       "      <td>2013</td>\n",
       "      <td>78200</td>\n",
       "      <td>40000</td>\n",
       "      <td>WD</td>\n",
       "      <td>14</td>\n",
       "      <td>1.955000</td>\n",
       "    </tr>\n",
       "    <tr>\n",
       "      <th>11422</th>\n",
       "      <td>2871513000</td>\n",
       "      <td>2013</td>\n",
       "      <td>63300</td>\n",
       "      <td>2014</td>\n",
       "      <td>68400</td>\n",
       "      <td>32500</td>\n",
       "      <td>WD</td>\n",
       "      <td>7</td>\n",
       "      <td>1.947692</td>\n",
       "    </tr>\n",
       "    <tr>\n",
       "      <th>10913</th>\n",
       "      <td>2850602000</td>\n",
       "      <td>2014</td>\n",
       "      <td>33000</td>\n",
       "      <td>2015</td>\n",
       "      <td>28800</td>\n",
       "      <td>17000</td>\n",
       "      <td>WD</td>\n",
       "      <td>7</td>\n",
       "      <td>1.941176</td>\n",
       "    </tr>\n",
       "  </tbody>\n",
       "</table>\n",
       "</div>"
      ],
      "text/plain": [
       "          tax_key  AssessmentYear  Assessment  NextYear  NextYearAssessment  \\\n",
       "11325  4350690000            2012       99200      2013               99200   \n",
       "6665   3080501000            2014      110000      2015              110000   \n",
       "9168   3210618000            2015       94500      2016               97500   \n",
       "10895  1399986110            2014      115900      2015              115900   \n",
       "7435   2251011000            2012       73600      2013               70000   \n",
       "10125  2701043000            2012       40200      2013               38200   \n",
       "78     2460129000            2012       49000      2013               49000   \n",
       "5575   4970620000            2012       78200      2013               78200   \n",
       "11422  2871513000            2013       63300      2014               68400   \n",
       "10913  2850602000            2014       33000      2015               28800   \n",
       "\n",
       "        Sale convey_type  geo_alder  assessment_ratio  \n",
       "11325  50000          WD          8          1.984000  \n",
       "6665   55600          WD         15          1.978417  \n",
       "9168   48000          WD          3          1.968750  \n",
       "10895  59000          WD          9          1.964407  \n",
       "7435   37500          WD          2          1.962667  \n",
       "10125  20500          WD          6          1.960976  \n",
       "78     25000          WD          1          1.960000  \n",
       "5575   40000          WD         14          1.955000  \n",
       "11422  32500          WD          7          1.947692  \n",
       "10913  17000          WD          7          1.941176  "
      ]
     },
     "execution_count": 46,
     "metadata": {},
     "output_type": "execute_result"
    }
   ],
   "source": [
    "grouped = data.groupby('geo_alder')\n",
    "data.sort_values(['assessment_ratio'], ascending=False).head(n=10)"
   ]
  },
  {
   "cell_type": "code",
   "execution_count": 47,
   "metadata": {},
   "outputs": [],
   "source": [
    "def coefficient_of_dispersion(assessment_ratios):\n",
    "    median = np.median(assessment_ratios)\n",
    "    return np.mean(np.abs(assessment_ratios - median))/median * 100\n",
    "\n",
    "def price_related_differential(assessments, sales):\n",
    "    assessment_ratios = assessments/sales\n",
    "    return np.mean(assessment_ratios)/(np.sum(assessments)/np.sum(sales))\n",
    "\n",
    "def draw_bs_reps(data, func, size=1):\n",
    "    return np.array([bootstrap_replicate_1d(data, func) for _ in range(size)])\n",
    "\n",
    "def bootstrap_replicate_1d(data, func):\n",
    "    return func(np.random.choice(data, size=len(data)))\n",
    "\n",
    "def permutation_sample(data_1, data_2):\n",
    "    permuted_data = np.random.permutation(np.concatenate((data_1, data_2)))\n",
    "    return permuted_data[:len(data_1)], permuted_data[len(data_1):]\n",
    "\n",
    "def draw_perm_reps(d1, d2, func, size=1):\n",
    "    return np.array([func(*permutation_sample(d1, d2)) for i in range(size)])\n",
    "\n",
    "def ecdf(data):\n",
    "    return np.sort(data), np.arange(1, len(data)+1) / len(data)"
   ]
  },
  {
   "cell_type": "code",
   "execution_count": null,
   "metadata": {},
   "outputs": [],
   "source": []
  },
  {
   "cell_type": "code",
   "execution_count": 48,
   "metadata": {},
   "outputs": [
    {
     "data": {
      "text/plain": [
       "0.9330127020785219"
      ]
     },
     "execution_count": 48,
     "metadata": {},
     "output_type": "execute_result"
    }
   ],
   "source": [
    "median = np.median(data.assessment_ratio)\n",
    "median"
   ]
  },
  {
   "cell_type": "code",
   "execution_count": 49,
   "metadata": {},
   "outputs": [
    {
     "data": {
      "text/plain": [
       "14.948728750280951"
      ]
     },
     "execution_count": 49,
     "metadata": {},
     "output_type": "execute_result"
    }
   ],
   "source": [
    "# Coefficient of Disperson (COD)\n",
    "cod = np.mean(np.abs(data.assessment_ratio - median))/median * 100\n",
    "cod"
   ]
  },
  {
   "cell_type": "code",
   "execution_count": 50,
   "metadata": {},
   "outputs": [
    {
     "data": {
      "text/plain": [
       "1.0415472474334366"
      ]
     },
     "execution_count": 50,
     "metadata": {},
     "output_type": "execute_result"
    }
   ],
   "source": [
    "# Price-Related Differential (PRD)\n",
    "# PRD measures  measures a pattern of inequity in assessments that has a correlation with the value of the property.\n",
    "# If there is a tendency for the higher-valued properties to exhibit lower assessment ratios than lower-values\n",
    "# properties, the price-related differential will be greater than 1.03. If, on the other hand,\n",
    "# higher-valued properties have higher assessment ratios than lower-valued properties,\n",
    "# the price-related differential will be less than .98. Differentials greater than 1.03 or less than .98\n",
    "# are both indicative of an inequity in assessment.\n",
    "# City reported: 1.03\n",
    "prd = np.mean(data.assessment_ratio)/(np.sum(data.Assessment)/np.sum(data.Sale))\n",
    "prd"
   ]
  },
  {
   "cell_type": "code",
   "execution_count": 51,
   "metadata": {},
   "outputs": [],
   "source": [
    "#_ = plt.plot(data.sale, data.assessment_ratio, marker='.', linestyle='none')"
   ]
  },
  {
   "cell_type": "code",
   "execution_count": 52,
   "metadata": {},
   "outputs": [
    {
     "data": {
      "image/png": "[encoded data removed]",
      "text/plain": [
       "<matplotlib.figure.Figure at 0x106ad4ef0>"
      ]
     },
     "metadata": {},
     "output_type": "display_data"
    }
   ],
   "source": [
    "_ = sns.boxplot('geo_alder', 'assessment_ratio', data=data)"
   ]
  },
  {
   "cell_type": "code",
   "execution_count": 53,
   "metadata": {},
   "outputs": [
    {
     "name": "stdout",
     "output_type": "stream",
     "text": [
      "             count  median_assessment  median_assessment_ratio    prd\n",
      "geo_alder                                                            \n",
      "5         0   1681           115600.0                 0.920270  1.024\n",
      "11        0   1583           126200.0                 0.931658  1.019\n",
      "13        0   1217           128100.0                 0.943541  1.024\n",
      "14        0   1070           137750.0                 0.896067  1.042\n",
      "10        0    993           123100.0                 0.926330  1.040\n",
      "2         0    525            75900.0                 0.955350  1.043\n",
      "9         0    521           112800.0                 0.954783  1.021\n",
      "3         0    499           240800.0                 0.917296  1.021\n",
      "1         0    324            58850.0                 1.004449  1.068\n",
      "7         0    300            71700.0                 1.010527  1.075\n",
      "8         0    195            80200.0                 0.967273  1.055\n",
      "6         0    155           101700.0                 0.952647  1.111\n",
      "15        0    124            65800.0                 0.962288  1.095\n",
      "12        0     97            57200.0                 1.056250  1.063\n",
      "4         0     56            88200.0                 0.953136  1.054\n"
     ]
    },
    {
     "data": {
      "image/png": "[encoded data removed]",
      "text/plain": [
       "<matplotlib.figure.Figure at 0x10ede7320>"
      ]
     },
     "metadata": {},
     "output_type": "display_data"
    }
   ],
   "source": [
    "\n",
    "x = grouped.apply(lambda group: pd.DataFrame({\n",
    "    'prd' : round(price_related_differential(group.Assessment, group.Sale), 3),\n",
    "    'median_assessment_ratio' : [np.median(group.assessment_ratio)],\n",
    "    'median_assessment' : [np.median(group.Assessment)],\n",
    "    'count' : len(group)}))\n",
    "print(x.sort_values(['count'], ascending=False))\n",
    "_ = plt.plot(x['count'], x['median_assessment_ratio'], marker='.', linestyle='none')"
   ]
  },
  {
   "cell_type": "code",
   "execution_count": 60,
   "metadata": {},
   "outputs": [
    {
     "name": "stdout",
     "output_type": "stream",
     "text": [
      "0.024203553060262673\n",
      "p-value = 0.00036666666666666667\n"
     ]
    }
   ],
   "source": [
    "def diff_of_medians(data_1, data_2):\n",
    "    \"\"\"Difference in medians of two arrays.\"\"\"\n",
    "\n",
    "    # The difference of medians of data_1, data_2: diff\n",
    "    return np.median(data_1) - np.median(data_2)\n",
    "\n",
    "fifth = data[(data['geo_alder'].isin([5]))].assessment_ratio.values\n",
    "fourteenth = data[data['geo_alder'].isin([14])].assessment_ratio.values\n",
    "empirical_diff_medians = diff_of_medians(fifth, fourteenth)\n",
    "perm_replicates = draw_perm_reps(fifth, fourteenth,\n",
    "                                 diff_of_medians, size=30000)\n",
    "print(empirical_diff_medians)\n",
    "\n",
    "\n",
    "# Compute p-value: p\n",
    "p = np.sum(perm_replicates >= empirical_diff_medians) / len(perm_replicates)\n",
    "\n",
    "# Print the result\n",
    "print('p-value =', p)"
   ]
  },
  {
   "cell_type": "markdown",
   "metadata": {},
   "source": [
    "## Distribution of Assessment Ratios Across 5th and 14th districts"
   ]
  },
  {
   "cell_type": "code",
   "execution_count": 55,
   "metadata": {},
   "outputs": [
    {
     "data": {
      "image/png": "[encoded data removed]",
      "text/plain": [
       "<matplotlib.figure.Figure at 0x10dadd978>"
      ]
     },
     "metadata": {},
     "output_type": "display_data"
    }
   ],
   "source": [
    "five_x, five_y = ecdf(fifth)\n",
    "fourteen_x, fourteen_y = ecdf(fourteenth)\n",
    "\n",
    "_ = plt.plot(five_x, five_y, marker='.', linestyle='none', color='blue', label='5')\n",
    "_ = plt.plot(fourteen_x, fourteen_y, marker='.', linestyle='none', color='red', label='14')\n",
    "plt.axvline(x=np.median(fifth), color='blue')\n",
    "plt.axvline(x=np.median(fourteenth), color='red')\n",
    "plt.xlabel('Assessment Ratio')\n",
    "plt.ylabel('Empirical Cumulative Distribution')\n",
    "plt.legend(bbox_to_anchor=(1,1.03))\n",
    "plt.margins(0.02)\n",
    "plt.show()"
   ]
  },
  {
   "cell_type": "code",
   "execution_count": 58,
   "metadata": {},
   "outputs": [
    {
     "data": {
      "image/png": "[encoded data removed]",
      "text/plain": [
       "<matplotlib.figure.Figure at 0x1a190a0e10>"
      ]
     },
     "metadata": {},
     "output_type": "display_data"
    }
   ],
   "source": [
    "one_x, one_y = ecdf(data[data['geo_alder'] == 1].assessment_ratio.values)\n",
    "two_x, two_y = ecdf(data[data['geo_alder'] == 2].assessment_ratio.values)\n",
    "three_x, three_y = ecdf(data[data['geo_alder'] == 3].assessment_ratio.values)\n",
    "four_x, four_y = ecdf(data[data['geo_alder'] == 4].assessment_ratio.values)\n",
    "five_x, five_y = ecdf(data[data['geo_alder'] == 5].assessment_ratio.values)\n",
    "six_x, six_y = ecdf(data[data['geo_alder'] == 6].assessment_ratio.values)\n",
    "seven_x, seven_y = ecdf(data[data['geo_alder'] == 7].assessment_ratio.values)\n",
    "eight_x, eight_y = ecdf(data[data['geo_alder'] == 8].assessment_ratio.values)\n",
    "nine_x, nine_y = ecdf(data[data['geo_alder'] == 9].assessment_ratio.values)\n",
    "ten_x, ten_y = ecdf(data[data['geo_alder'] == 10].assessment_ratio.values)\n",
    "eleven_x, eleven_y = ecdf(data[data['geo_alder'] == 11].assessment_ratio.values)\n",
    "twelve_x, twelve_y = ecdf(data[data['geo_alder'] == 12].assessment_ratio.values)\n",
    "thirteen_x, thirteen_y = ecdf(data[data['geo_alder'] == 13].assessment_ratio.values)\n",
    "fourteen_x, fourteen_y = ecdf(data[data['geo_alder'] == 14].assessment_ratio.values)\n",
    "fifteen_x, fifteen_y = ecdf(data[data['geo_alder'] == 15].assessment_ratio.values)\n",
    "\n",
    "\n",
    "#_ = plt.plot(one_x, one_y, marker='.', linestyle='none', label='1')\n",
    "_ = plt.plot(two_x, two_y, marker='.', linestyle='none', label='2')\n",
    "_ = plt.plot(three_x, three_y, marker='.', linestyle='none', label='3')\n",
    "#_ = plt.plot(four_x, four_y, marker='.', linestyle='none', label='4')\n",
    "_ = plt.plot(five_x, five_y, marker='.', linestyle='none', label='5')\n",
    "#_ = plt.plot(six_x, six_y, marker='.', linestyle='none', label='6')\n",
    "#_ = plt.plot(seven_x, seven_y, marker='.', linestyle='none', label='7')\n",
    "#_ = plt.plot(eight_x, eight_y, marker='.', linestyle='none', label='8')\n",
    "_ = plt.plot(nine_x, nine_y, marker='.', linestyle='none', label='9')\n",
    "_ = plt.plot(ten_x, ten_y, marker='.', linestyle='none', label='10')\n",
    "_ = plt.plot(eleven_x, eleven_y, marker='.', linestyle='none', label='11')\n",
    "#_ = plt.plot(twelve_x, twelve_y, marker='.', linestyle='none', label='12')\n",
    "_ = plt.plot(thirteen_x, thirteen_y, marker='.', linestyle='none', label='13')\n",
    "_ = plt.plot(fourteen_x, fourteen_y, marker='.', linestyle='none', label='14')\n",
    "#_ = plt.plot(fifteen_x, fifteen_y, marker='.', linestyle='none', label='15')\n",
    "plt.xlabel('Assessment Ratio')\n",
    "plt.ylabel('Empirical Cumulative Distribution')\n",
    "plt.legend(bbox_to_anchor=(1,1.03))\n",
    "plt.margins(0.02)\n",
    "plt.show()"
   ]
  },
  {
   "cell_type": "code",
   "execution_count": null,
   "metadata": {},
   "outputs": [],
   "source": []
  }
 ],
 "metadata": {
  "kernelspec": {
   "display_name": "Python 3",
   "language": "python",
   "name": "python3"
  },
  "language_info": {
   "codemirror_mode": {
    "name": "ipython",
    "version": 3
   },
   "file_extension": ".py",
   "mimetype": "text/x-python",
   "name": "python",
   "nbconvert_exporter": "python",
   "pygments_lexer": "ipython3",
   "version": "3.6.4"
  }
 },
 "nbformat": 4,
 "nbformat_minor": 2
}
