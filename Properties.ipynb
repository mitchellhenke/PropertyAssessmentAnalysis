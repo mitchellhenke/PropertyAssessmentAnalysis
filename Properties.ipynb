{
 "cells": [
  {
   "cell_type": "code",
   "execution_count": 2,
   "metadata": {},
   "outputs": [],
   "source": [
    "import pandas as pd\n",
    "import numpy as np\n",
    "import matplotlib.pyplot as plt\n",
    "import seaborn as sns"
   ]
  },
  {
   "cell_type": "code",
   "execution_count": 3,
   "metadata": {},
   "outputs": [
    {
     "name": "stdout",
     "output_type": "stream",
     "text": [
      "      tax_key  AssessmentYear  Assessment  NextYear  NextYearAssessment  \\\n",
      "0  2440132000            2009      113700      2010              108000   \n",
      "1  2061316000            2009       78800      2010               74900   \n",
      "2  2310306000            2009       97000      2010               92100   \n",
      "3  1229979100            2009      131700      2010              131700   \n",
      "4  2440969000            2009       93600      2010               89000   \n",
      "\n",
      "     Sale convey_type  geo_alder  \n",
      "0  105000          WD        1.0  \n",
      "1   48400          QC        1.0  \n",
      "2  100000          WD        1.0  \n",
      "3  131500          WD        1.0  \n",
      "4   79500          WD        1.0  \n"
     ]
    }
   ],
   "source": [
    "data = pd.read_csv(\"./data/assessments/assessments_sales.csv\")\n",
    "print(data.head())"
   ]
  },
  {
   "cell_type": "code",
   "execution_count": 14,
   "metadata": {},
   "outputs": [],
   "source": [
    "data['assessment_ratio'] = data.Assessment/data.Sale\n",
    "data = data[((data['NextYearAssessment']/data['Assessment']) < 3)]\n",
    "data = data[data['Assessment'] > 0]\n",
    "data = data[data['assessment_ratio'] < 2]\n",
    "data = data[data['assessment_ratio'] >= 0.5]\n",
    "data = data[data['convey_type'].isin([\"WD\", \"CD\"])]\n",
    "data = data[data['AssessmentYear'] >= 2012]"
   ]
  },
  {
   "cell_type": "code",
   "execution_count": 15,
   "metadata": {},
   "outputs": [
    {
     "data": {
      "text/html": [
       "<div>\n",
       "<style scoped>\n",
       "    .dataframe tbody tr th:only-of-type {\n",
       "        vertical-align: middle;\n",
       "    }\n",
       "\n",
       "    .dataframe tbody tr th {\n",
       "        vertical-align: top;\n",
       "    }\n",
       "\n",
       "    .dataframe thead th {\n",
       "        text-align: right;\n",
       "    }\n",
       "</style>\n",
       "<table border=\"1\" class=\"dataframe\">\n",
       "  <thead>\n",
       "    <tr style=\"text-align: right;\">\n",
       "      <th></th>\n",
       "      <th>tax_key</th>\n",
       "      <th>AssessmentYear</th>\n",
       "      <th>Assessment</th>\n",
       "      <th>NextYear</th>\n",
       "      <th>NextYearAssessment</th>\n",
       "      <th>Sale</th>\n",
       "      <th>convey_type</th>\n",
       "      <th>geo_alder</th>\n",
       "      <th>assessment_ratio</th>\n",
       "    </tr>\n",
       "  </thead>\n",
       "  <tbody>\n",
       "    <tr>\n",
       "      <th>14372</th>\n",
       "      <td>4360326000</td>\n",
       "      <td>2014</td>\n",
       "      <td>71900</td>\n",
       "      <td>2015</td>\n",
       "      <td>67600</td>\n",
       "      <td>36000</td>\n",
       "      <td>WD</td>\n",
       "      <td>8.0</td>\n",
       "      <td>1.997222</td>\n",
       "    </tr>\n",
       "    <tr>\n",
       "      <th>14657</th>\n",
       "      <td>3070110000</td>\n",
       "      <td>2014</td>\n",
       "      <td>129800</td>\n",
       "      <td>2015</td>\n",
       "      <td>129800</td>\n",
       "      <td>65000</td>\n",
       "      <td>WD</td>\n",
       "      <td>7.0</td>\n",
       "      <td>1.996923</td>\n",
       "    </tr>\n",
       "    <tr>\n",
       "      <th>7860</th>\n",
       "      <td>3641124100</td>\n",
       "      <td>2012</td>\n",
       "      <td>47700</td>\n",
       "      <td>2013</td>\n",
       "      <td>47700</td>\n",
       "      <td>24000</td>\n",
       "      <td>WD</td>\n",
       "      <td>15.0</td>\n",
       "      <td>1.987500</td>\n",
       "    </tr>\n",
       "    <tr>\n",
       "      <th>13974</th>\n",
       "      <td>4350690000</td>\n",
       "      <td>2012</td>\n",
       "      <td>99200</td>\n",
       "      <td>2013</td>\n",
       "      <td>99200</td>\n",
       "      <td>50000</td>\n",
       "      <td>WD</td>\n",
       "      <td>8.0</td>\n",
       "      <td>1.984000</td>\n",
       "    </tr>\n",
       "    <tr>\n",
       "      <th>8095</th>\n",
       "      <td>3080501000</td>\n",
       "      <td>2014</td>\n",
       "      <td>110000</td>\n",
       "      <td>2015</td>\n",
       "      <td>110000</td>\n",
       "      <td>55600</td>\n",
       "      <td>WD</td>\n",
       "      <td>15.0</td>\n",
       "      <td>1.978417</td>\n",
       "    </tr>\n",
       "    <tr>\n",
       "      <th>14208</th>\n",
       "      <td>4581224000</td>\n",
       "      <td>2012</td>\n",
       "      <td>69000</td>\n",
       "      <td>2013</td>\n",
       "      <td>69000</td>\n",
       "      <td>35000</td>\n",
       "      <td>WD</td>\n",
       "      <td>8.0</td>\n",
       "      <td>1.971429</td>\n",
       "    </tr>\n",
       "    <tr>\n",
       "      <th>1804</th>\n",
       "      <td>3060260000</td>\n",
       "      <td>2014</td>\n",
       "      <td>78800</td>\n",
       "      <td>2015</td>\n",
       "      <td>71000</td>\n",
       "      <td>40000</td>\n",
       "      <td>WD</td>\n",
       "      <td>10.0</td>\n",
       "      <td>1.970000</td>\n",
       "    </tr>\n",
       "    <tr>\n",
       "      <th>11257</th>\n",
       "      <td>3210618000</td>\n",
       "      <td>2015</td>\n",
       "      <td>94500</td>\n",
       "      <td>2016</td>\n",
       "      <td>97500</td>\n",
       "      <td>48000</td>\n",
       "      <td>WD</td>\n",
       "      <td>3.0</td>\n",
       "      <td>1.968750</td>\n",
       "    </tr>\n",
       "    <tr>\n",
       "      <th>13389</th>\n",
       "      <td>1399986110</td>\n",
       "      <td>2014</td>\n",
       "      <td>115900</td>\n",
       "      <td>2015</td>\n",
       "      <td>115900</td>\n",
       "      <td>59000</td>\n",
       "      <td>WD</td>\n",
       "      <td>9.0</td>\n",
       "      <td>1.964407</td>\n",
       "    </tr>\n",
       "    <tr>\n",
       "      <th>9110</th>\n",
       "      <td>2251011000</td>\n",
       "      <td>2012</td>\n",
       "      <td>73600</td>\n",
       "      <td>2013</td>\n",
       "      <td>70000</td>\n",
       "      <td>37500</td>\n",
       "      <td>WD</td>\n",
       "      <td>2.0</td>\n",
       "      <td>1.962667</td>\n",
       "    </tr>\n",
       "  </tbody>\n",
       "</table>\n",
       "</div>"
      ],
      "text/plain": [
       "          tax_key  AssessmentYear  Assessment  NextYear  NextYearAssessment  \\\n",
       "14372  4360326000            2014       71900      2015               67600   \n",
       "14657  3070110000            2014      129800      2015              129800   \n",
       "7860   3641124100            2012       47700      2013               47700   \n",
       "13974  4350690000            2012       99200      2013               99200   \n",
       "8095   3080501000            2014      110000      2015              110000   \n",
       "14208  4581224000            2012       69000      2013               69000   \n",
       "1804   3060260000            2014       78800      2015               71000   \n",
       "11257  3210618000            2015       94500      2016               97500   \n",
       "13389  1399986110            2014      115900      2015              115900   \n",
       "9110   2251011000            2012       73600      2013               70000   \n",
       "\n",
       "        Sale convey_type  geo_alder  assessment_ratio  \n",
       "14372  36000          WD        8.0          1.997222  \n",
       "14657  65000          WD        7.0          1.996923  \n",
       "7860   24000          WD       15.0          1.987500  \n",
       "13974  50000          WD        8.0          1.984000  \n",
       "8095   55600          WD       15.0          1.978417  \n",
       "14208  35000          WD        8.0          1.971429  \n",
       "1804   40000          WD       10.0          1.970000  \n",
       "11257  48000          WD        3.0          1.968750  \n",
       "13389  59000          WD        9.0          1.964407  \n",
       "9110   37500          WD        2.0          1.962667  "
      ]
     },
     "execution_count": 15,
     "metadata": {},
     "output_type": "execute_result"
    }
   ],
   "source": [
    "grouped = data.groupby('geo_alder')\n",
    "data.sort_values(['assessment_ratio'], ascending=False).head(n=10)"
   ]
  },
  {
   "cell_type": "code",
   "execution_count": 16,
   "metadata": {},
   "outputs": [],
   "source": [
    "def coefficient_of_dispersion(assessment_ratios):\n",
    "    median = np.median(assessment_ratios)\n",
    "    return np.mean(np.abs(assessment_ratios - median))/median * 100\n",
    "\n",
    "def price_related_differential(assessments, sales):\n",
    "    assessment_ratios = assessments/sales\n",
    "    return np.mean(assessment_ratios)/(np.sum(assessments)/np.sum(sales))\n",
    "\n",
    "def draw_bs_reps(data, func, size=1):\n",
    "    return np.array([bootstrap_replicate_1d(data, func) for _ in range(size)])\n",
    "\n",
    "def bootstrap_replicate_1d(data, func):\n",
    "    return func(np.random.choice(data, size=len(data)))\n",
    "\n",
    "def permutation_sample(data_1, data_2):\n",
    "    permuted_data = np.random.permutation(np.concatenate((data_1, data_2)))\n",
    "    return permuted_data[:len(data_1)], permuted_data[len(data_1):]\n",
    "\n",
    "def draw_perm_reps(d1, d2, func, size=1):\n",
    "    return np.array([func(*permutation_sample(d1, d2)) for i in range(size)])\n",
    "\n",
    "def ecdf(data):\n",
    "    return np.sort(data), np.arange(1, len(data)+1) / len(data)"
   ]
  },
  {
   "cell_type": "code",
   "execution_count": null,
   "metadata": {},
   "outputs": [],
   "source": []
  },
  {
   "cell_type": "code",
   "execution_count": 17,
   "metadata": {},
   "outputs": [
    {
     "data": {
      "text/plain": [
       "0.9354838709677419"
      ]
     },
     "execution_count": 17,
     "metadata": {},
     "output_type": "execute_result"
    }
   ],
   "source": [
    "median = np.median(data.assessment_ratio)\n",
    "median"
   ]
  },
  {
   "cell_type": "code",
   "execution_count": 18,
   "metadata": {},
   "outputs": [
    {
     "data": {
      "text/plain": [
       "15.877993591900891"
      ]
     },
     "execution_count": 18,
     "metadata": {},
     "output_type": "execute_result"
    }
   ],
   "source": [
    "# Coefficient of Disperson (COD)\n",
    "cod = np.mean(np.abs(data.assessment_ratio - median))/median * 100\n",
    "cod"
   ]
  },
  {
   "cell_type": "code",
   "execution_count": 19,
   "metadata": {},
   "outputs": [
    {
     "data": {
      "text/plain": [
       "1.0490487599444305"
      ]
     },
     "execution_count": 19,
     "metadata": {},
     "output_type": "execute_result"
    }
   ],
   "source": [
    "# Price-Related Differential (PRD)\n",
    "# PRD measures  measures a pattern of inequity in assessments that has a correlation with the value of the property.\n",
    "# If there is a tendency for the higher-valued properties to exhibit lower assessment ratios than lower-values\n",
    "# properties, the price-related differential will be greater than 1.03. If, on the other hand,\n",
    "# higher-valued properties have higher assessment ratios than lower-valued properties,\n",
    "# the price-related differential will be less than .98. Differentials greater than 1.03 or less than .98\n",
    "# are both indicative of an inequity in assessment.\n",
    "# City reported: 1.03\n",
    "prd = np.mean(data.assessment_ratio)/(np.sum(data.Assessment)/np.sum(data.Sale))\n",
    "prd"
   ]
  },
  {
   "cell_type": "code",
   "execution_count": 9,
   "metadata": {},
   "outputs": [],
   "source": [
    "#_ = plt.plot(data.sale, data.assessment_ratio, marker='.', linestyle='none')"
   ]
  },
  {
   "cell_type": "code",
   "execution_count": 10,
   "metadata": {},
   "outputs": [],
   "source": [
    "#_ = sns.boxplot('geo_alder', 'assessment_ratio', data=data)"
   ]
  },
  {
   "cell_type": "code",
   "execution_count": 21,
   "metadata": {},
   "outputs": [
    {
     "name": "stdout",
     "output_type": "stream",
     "text": [
      "             count  median_assessment  median_assessment_ratio    prd\n",
      "geo_alder                                                            \n",
      "5.0       0   1798           115700.0                 0.922522  1.024\n",
      "11.0      0   1747           127700.0                 0.931356  1.019\n",
      "14.0      0   1374           139300.0                 0.894764  1.045\n",
      "13.0      0   1342           129250.0                 0.943417  1.024\n",
      "10.0      0   1291           123700.0                 0.926667  1.043\n",
      "3.0       0    826           224600.0                 0.918707  1.027\n",
      "2.0       0    625            77300.0                 0.951429  1.042\n",
      "9.0       0    554           110950.0                 0.954449  1.023\n",
      "7.0       0    416            69600.0                 1.020226  1.087\n",
      "1.0       0    388            60100.0                 1.024060  1.074\n",
      "8.0       0    359            80700.0                 0.986667  1.058\n",
      "6.0       0    297            76000.0                 0.992157  1.124\n",
      "15.0      0    234            45600.0                 0.993213  1.120\n",
      "12.0      0    206            59850.0                 1.060872  1.091\n",
      "4.0       0     78            73400.0                 0.960036  1.065\n"
     ]
    },
    {
     "data": {
      "image/png": "[encoded data removed]",
      "text/plain": [
       "<matplotlib.figure.Figure at 0x108f1c710>"
      ]
     },
     "metadata": {},
     "output_type": "display_data"
    }
   ],
   "source": [
    "\n",
    "x = grouped.apply(lambda group: pd.DataFrame({\n",
    "    'prd' : round(price_related_differential(group.Assessment, group.Sale), 3),\n",
    "    'median_assessment_ratio' : [np.median(group.assessment_ratio)],\n",
    "    'median_assessment' : [np.median(group.Assessment)],\n",
    "    'count' : len(group)}))\n",
    "print(x.sort_values(['count'], ascending=False))\n",
    "_ = plt.plot(x['count'], x['median_assessment_ratio'], marker='.', linestyle='none')"
   ]
  },
  {
   "cell_type": "code",
   "execution_count": 24,
   "metadata": {},
   "outputs": [
    {
     "name": "stdout",
     "output_type": "stream",
     "text": [
      "0.02775795225265132\n",
      "p-value = 0.0\n"
     ]
    }
   ],
   "source": [
    "def diff_of_medians(data_1, data_2):\n",
    "    \"\"\"Difference in medians of two arrays.\"\"\"\n",
    "\n",
    "    # The difference of medians of data_1, data_2: diff\n",
    "    return np.median(data_1) - np.median(data_2)\n",
    "\n",
    "fifth = data[(data['geo_alder'].isin([5]))].assessment_ratio.values\n",
    "fourteenth = data[data['geo_alder'].isin([14])].assessment_ratio.values\n",
    "empirical_diff_medians = diff_of_medians(fifth, fourteenth)\n",
    "perm_replicates = draw_perm_reps(fifth, fourteenth,\n",
    "                                 diff_of_medians, size=10000)\n",
    "print(empirical_diff_medians)\n",
    "\n",
    "\n",
    "# Compute p-value: p\n",
    "p = np.sum(perm_replicates >= empirical_diff_medians) / len(perm_replicates)\n",
    "\n",
    "# Print the result\n",
    "print('p-value =', p)"
   ]
  },
  {
   "cell_type": "markdown",
   "metadata": {},
   "source": [
    "## Distribution of Assessment Ratios Across 5th and 14th districts"
   ]
  },
  {
   "cell_type": "code",
   "execution_count": 25,
   "metadata": {},
   "outputs": [
    {
     "data": {
      "image/png": "[encoded data removed]",
      "text/plain": [
       "<matplotlib.figure.Figure at 0x10967fac8>"
      ]
     },
     "metadata": {},
     "output_type": "display_data"
    }
   ],
   "source": [
    "five_x, five_y = ecdf(fifth)\n",
    "fourteen_x, fourteen_y = ecdf(fourteenth)\n",
    "\n",
    "_ = plt.plot(five_x, five_y, marker='.', linestyle='none', color='blue', label='5')\n",
    "_ = plt.plot(fourteen_x, fourteen_y, marker='.', linestyle='none', color='red', label='14')\n",
    "plt.axvline(x=np.median(fifth), color='blue')\n",
    "plt.axvline(x=np.median(fourteenth), color='red')\n",
    "plt.xlabel('Assessment Ratio')\n",
    "plt.ylabel('Empirical Cumulative Distribution')\n",
    "plt.legend(bbox_to_anchor=(1,1.03))\n",
    "plt.margins(0.02)\n",
    "plt.show()"
   ]
  },
  {
   "cell_type": "code",
   "execution_count": 26,
   "metadata": {},
   "outputs": [
    {
     "data": {
      "image/png": "[encoded data removed]",
      "text/plain": [
       "<matplotlib.figure.Figure at 0x1096a8438>"
      ]
     },
     "metadata": {},
     "output_type": "display_data"
    }
   ],
   "source": [
    "one_x, one_y = ecdf(data[data['geo_alder'] == 1].assessment_ratio.values)\n",
    "two_x, two_y = ecdf(data[data['geo_alder'] == 2].assessment_ratio.values)\n",
    "three_x, three_y = ecdf(data[data['geo_alder'] == 3].assessment_ratio.values)\n",
    "four_x, four_y = ecdf(data[data['geo_alder'] == 4].assessment_ratio.values)\n",
    "five_x, five_y = ecdf(data[data['geo_alder'] == 5].assessment_ratio.values)\n",
    "six_x, six_y = ecdf(data[data['geo_alder'] == 6].assessment_ratio.values)\n",
    "seven_x, seven_y = ecdf(data[data['geo_alder'] == 7].assessment_ratio.values)\n",
    "eight_x, eight_y = ecdf(data[data['geo_alder'] == 8].assessment_ratio.values)\n",
    "nine_x, nine_y = ecdf(data[data['geo_alder'] == 9].assessment_ratio.values)\n",
    "ten_x, ten_y = ecdf(data[data['geo_alder'] == 10].assessment_ratio.values)\n",
    "eleven_x, eleven_y = ecdf(data[data['geo_alder'] == 11].assessment_ratio.values)\n",
    "twelve_x, twelve_y = ecdf(data[data['geo_alder'] == 12].assessment_ratio.values)\n",
    "thirteen_x, thirteen_y = ecdf(data[data['geo_alder'] == 13].assessment_ratio.values)\n",
    "fourteen_x, fourteen_y = ecdf(data[data['geo_alder'] == 14].assessment_ratio.values)\n",
    "fifteen_x, fifteen_y = ecdf(data[data['geo_alder'] == 15].assessment_ratio.values)\n",
    "\n",
    "\n",
    "_ = plt.plot(one_x, one_y, marker='.', linestyle='none', label='1')\n",
    "_ = plt.plot(two_x, two_y, marker='.', linestyle='none', label='2')\n",
    "_ = plt.plot(three_x, three_y, marker='.', linestyle='none', label='3')\n",
    "_ = plt.plot(four_x, four_y, marker='.', linestyle='none', label='4')\n",
    "_ = plt.plot(five_x, five_y, marker='.', linestyle='none', label='5')\n",
    "_ = plt.plot(six_x, six_y, marker='.', linestyle='none', label='6')\n",
    "_ = plt.plot(seven_x, seven_y, marker='.', linestyle='none', label='7')\n",
    "_ = plt.plot(eight_x, eight_y, marker='.', linestyle='none', label='8')\n",
    "_ = plt.plot(nine_x, nine_y, marker='.', linestyle='none', label='9')\n",
    "_ = plt.plot(ten_x, ten_y, marker='.', linestyle='none', label='10')\n",
    "_ = plt.plot(eleven_x, eleven_y, marker='.', linestyle='none', label='11')\n",
    "_ = plt.plot(twelve_x, twelve_y, marker='.', linestyle='none', label='12')\n",
    "_ = plt.plot(thirteen_x, thirteen_y, marker='.', linestyle='none', label='13')\n",
    "_ = plt.plot(fourteen_x, fourteen_y, marker='.', linestyle='none', label='14')\n",
    "_ = plt.plot(fifteen_x, fifteen_y, marker='.', linestyle='none', label='15')\n",
    "plt.xlabel('Assessment Ratio')\n",
    "plt.ylabel('Empirical Cumulative Distribution')\n",
    "plt.legend(bbox_to_anchor=(1,1.03))\n",
    "plt.margins(0.02)\n",
    "plt.show()"
   ]
  },
  {
   "cell_type": "code",
   "execution_count": null,
   "metadata": {},
   "outputs": [],
   "source": []
  }
 ],
 "metadata": {
  "kernelspec": {
   "display_name": "Python 3",
   "language": "python",
   "name": "python3"
  },
  "language_info": {
   "codemirror_mode": {
    "name": "ipython",
    "version": 3
   },
   "file_extension": ".py",
   "mimetype": "text/x-python",
   "name": "python",
   "nbconvert_exporter": "python",
   "pygments_lexer": "ipython3",
   "version": "3.6.4"
  }
 },
 "nbformat": 4,
 "nbformat_minor": 2
}
